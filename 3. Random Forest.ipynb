{
 "cells": [
  {
   "cell_type": "code",
   "execution_count": 1,
   "id": "8d4cb727-c068-49dc-99f2-1e0fee41cdd8",
   "metadata": {},
   "outputs": [],
   "source": [
    "import numpy as np\n",
    "import pandas as pd\n",
    "from sklearn.model_selection import train_test_split, cross_val_score\n",
    "from sklearn.ensemble import RandomForestClassifier\n",
    "from sklearn.svm import SVC\n",
    "from sklearn.linear_model import LogisticRegression\n",
    "from sklearn.tree import DecisionTreeClassifier\n",
    "from sklearn.metrics import accuracy_score, precision_score, recall_score, f1_score, roc_auc_score\n",
    "from sklearn.preprocessing import StandardScaler"
   ]
  },
  {
   "cell_type": "code",
   "execution_count": 2,
   "id": "aeee850e-9a6c-429a-bb9e-d5cdd722f533",
   "metadata": {},
   "outputs": [],
   "source": [
    "# Importing dataset from google drive\n",
    "df = pd.read_csv('Phishing_URL_Dataset.csv')\n",
    "\n",
    "# Drop target column\n",
    "X = df.drop(columns=['label'])\n",
    "y = df['label']\n",
    "\n",
    "# Splitting the dataset into training and testing sets\n",
    "X_train, X_test, y_train, y_test = train_test_split(X, y, test_size=0.2, random_state=42)"
   ]
  },
  {
   "cell_type": "code",
   "execution_count": 3,
   "id": "21258cbc-2106-473c-9038-1c52e291d2d6",
   "metadata": {},
   "outputs": [
    {
     "name": "stdout",
     "output_type": "stream",
     "text": [
      "\n",
      "Selected features using feature importance from Random Forest:\n",
      "Index(['URLSimilarityIndex', 'NoOfExternalRef', 'LineOfCode', 'NoOfSelfRef',\n",
      "       'NoOfImage', 'NoOfJS', 'HasSocialNet', 'NoOfCSS', 'HasCopyrightInfo',\n",
      "       'IsHTTPS', 'LargestLineLength', 'HasDescription', 'NoOfDegitsInURL',\n",
      "       'NoOfOtherSpecialCharsInURL', 'NoOfLettersInURL', 'DegitRatioInURL',\n",
      "       'DomainTitleMatchScore', 'IsResponsive', 'URLLength',\n",
      "       'LetterRatioInURL', 'URLTitleMatchScore', 'SpacialCharRatioInURL',\n",
      "       'HasSubmitButton', 'NoOfSubDomain', 'NoOfEmptyRef', 'URLCharProb',\n",
      "       'DomainLength', 'HasFavicon', 'CharContinuationRate', 'HasHiddenFields',\n",
      "       'NoOfQMarkInURL', 'TLDLength', 'TLDLegitimateProb', 'HasPasswordField',\n",
      "       'NoOfiFrame', 'Bank', 'Pay', 'HasTitle', 'NoOfEqualsInURL',\n",
      "       'NoOfAmpersandInURL', 'Robots', 'NoOfURLRedirect', 'NoOfPopup',\n",
      "       'Crypto', 'NoOfObfuscatedChar', 'IsDomainIP', 'NoOfSelfRedirect',\n",
      "       'HasExternalFormSubmit', 'HasObfuscation', 'ObfuscationRatio'],\n",
      "      dtype='object')\n"
     ]
    }
   ],
   "source": [
    "# Feature Importance from Random Forest for feature selection\n",
    "rf = RandomForestClassifier(n_estimators=100, random_state=42)\n",
    "rf.fit(X_train, y_train)\n",
    "\n",
    "# Get feature importances from Random Forest\n",
    "feature_importances_rf = pd.Series(rf.feature_importances_, index=X.columns)\n",
    "selected_features_rf = feature_importances_rf.sort_values(ascending=False).index\n",
    "\n",
    "print(\"\\nSelected features using feature importance from Random Forest:\")\n",
    "print(selected_features_rf)"
   ]
  },
  {
   "cell_type": "code",
   "execution_count": 4,
   "id": "05c5a0b6-aae5-41e2-9f1f-c9ff5f2fa2c7",
   "metadata": {},
   "outputs": [
    {
     "name": "stdout",
     "output_type": "stream",
     "text": [
      "\n",
      "Performance Metrics for SVM:\n",
      "Accuracy: 1.00\n",
      "Precision: 1.00\n",
      "Recall: 1.00\n",
      "F1 Score: 1.00\n",
      "ROC AUC: 1.00\n",
      "Cross-Validated Accuracy Scores: [0.99980916 0.99974554 0.99980916 0.99961831 0.99983036]\n",
      "Average CV Accuracy: 1.00\n",
      "\n",
      "Performance Metrics for Logistic Regression:\n",
      "Accuracy: 1.00\n",
      "Precision: 1.00\n",
      "Recall: 1.00\n",
      "F1 Score: 1.00\n",
      "ROC AUC: 1.00\n",
      "Cross-Validated Accuracy Scores: [0.99983036 0.99987277 0.99991518 0.99983036 0.99989398]\n",
      "Average CV Accuracy: 1.00\n",
      "\n",
      "Performance Metrics for Decision Tree:\n",
      "Accuracy: 1.00\n",
      "Precision: 1.00\n",
      "Recall: 1.00\n",
      "F1 Score: 1.00\n",
      "ROC AUC: 1.00\n",
      "Cross-Validated Accuracy Scores: [1. 1. 1. 1. 1.]\n",
      "Average CV Accuracy: 1.00\n",
      "\n",
      "Performance Metrics for Random Forest:\n",
      "Accuracy: 1.00\n",
      "Precision: 1.00\n",
      "Recall: 1.00\n",
      "F1 Score: 1.00\n",
      "ROC AUC: 1.00\n",
      "Cross-Validated Accuracy Scores: [0.9999788 1.        0.9999788 1.        1.       ]\n",
      "Average CV Accuracy: 1.00\n"
     ]
    }
   ],
   "source": [
    "# Use selected features for training and testing\n",
    "X_train_selected = X_train[selected_features_rf]\n",
    "X_test_selected = X_test[selected_features_rf]\n",
    "\n",
    "# Scale the features\n",
    "scaler = StandardScaler()\n",
    "X_train_scaled = scaler.fit_transform(X_train_selected)\n",
    "X_test_scaled = scaler.transform(X_test_selected)\n",
    "\n",
    "# Define the classifiers\n",
    "classifiers = {\n",
    "    \"SVM\": SVC(),\n",
    "    \"Logistic Regression\": LogisticRegression(max_iter=1000),  # Increased max_iter\n",
    "    \"Decision Tree\": DecisionTreeClassifier(),\n",
    "    \"Random Forest\": RandomForestClassifier(n_estimators=100, random_state=42)\n",
    "}\n",
    "\n",
    "# Loop through each classifier\n",
    "for clf_name, clf in classifiers.items():\n",
    "    # Fit the model on the scaled training data\n",
    "    clf.fit(X_train_scaled, y_train)\n",
    "\n",
    "    # Predict on the scaled test data\n",
    "    y_pred = clf.predict(X_test_scaled)\n",
    "\n",
    "    # Calculate performance metrics\n",
    "    accuracy = accuracy_score(y_test, y_pred)\n",
    "    precision = precision_score(y_test, y_pred)\n",
    "    recall = recall_score(y_test, y_pred)\n",
    "    f1 = f1_score(y_test, y_pred)\n",
    "    roc_auc = roc_auc_score(y_test, y_pred)\n",
    "    cv_scores = cross_val_score(clf, scaler.transform(X[selected_features_rf]), y, cv=5)  # Ensure CV is also done on scaled data\n",
    "\n",
    "    # Print performance metrics\n",
    "    print(f\"\\nPerformance Metrics for {clf_name}:\")\n",
    "    print(\"Accuracy: {:.2f}\".format(accuracy))\n",
    "    print(\"Precision: {:.2f}\".format(precision))\n",
    "    print(\"Recall: {:.2f}\".format(recall))\n",
    "    print(\"F1 Score: {:.2f}\".format(f1))\n",
    "    print(\"ROC AUC: {:.2f}\".format(roc_auc))\n",
    "    print(\"Cross-Validated Accuracy Scores:\", cv_scores)\n",
    "    print(\"Average CV Accuracy: {:.2f}\".format(np.mean(cv_scores)))"
   ]
  },
  {
   "cell_type": "code",
   "execution_count": null,
   "id": "53ebc5a3-c072-4645-becd-aa6527b578ec",
   "metadata": {},
   "outputs": [],
   "source": []
  }
 ],
 "metadata": {
  "kernelspec": {
   "display_name": "Python 3 (ipykernel)",
   "language": "python",
   "name": "python3"
  },
  "language_info": {
   "codemirror_mode": {
    "name": "ipython",
    "version": 3
   },
   "file_extension": ".py",
   "mimetype": "text/x-python",
   "name": "python",
   "nbconvert_exporter": "python",
   "pygments_lexer": "ipython3",
   "version": "3.12.3"
  }
 },
 "nbformat": 4,
 "nbformat_minor": 5
}
